{
 "cells": [
  {
   "cell_type": "code",
   "execution_count": 1,
   "metadata": {},
   "outputs": [
    {
     "name": "stdout",
     "output_type": "stream",
     "text": [
      "True\n",
      "1 2.1 3.2 4.3 \n",
      "2 5.1 6.2 7.3 \n",
      "3 8.1 9.2 10.3 \n"
     ]
    }
   ],
   "source": [
    "from dynamic_array import DynamicArray\n",
    "\n",
    "# Create an instance of DynamicArray with 4 columns\n",
    "arr = DynamicArray(4)\n",
    "\n",
    "# Add rows, delete rows, and check for timestamp existence\n",
    "\n",
    "arr.addRow([1.0, 2.1, 3.2, 4.3])\n",
    "arr.addRow([2.0, 5.1, 6.2, 7.3])\n",
    "arr.addRow([3.0, 8.1, 9.2, 10.3])\n",
    "arr.addRow([4.0, 11.1, 12.2, 13.3])\n",
    "arr.deleteRows(-1,1)\n",
    "print(arr.timestampExists(1.0)) # Should print True\n",
    "arr.print() # Use the C++ print method to display the array"
   ]
  },
  {
   "cell_type": "code",
   "execution_count": 2,
   "metadata": {},
   "outputs": [
    {
     "name": "stdout",
     "output_type": "stream",
     "text": [
      "3\n",
      "1\n"
     ]
    }
   ],
   "source": [
    "print(arr.getLength())\n",
    "print(arr.minKey())"
   ]
  },
  {
   "cell_type": "code",
   "execution_count": 3,
   "metadata": {},
   "outputs": [
    {
     "name": "stdout",
     "output_type": "stream",
     "text": [
      "1 2.1 444 4.3 \n",
      "2 5.1 6.2 7.3 \n",
      "3 8.1 9.2 10.3 \n"
     ]
    }
   ],
   "source": [
    "arr.updateRow(1, 1, 444)\n",
    "arr.print()\n"
   ]
  },
  {
   "cell_type": "code",
   "execution_count": 4,
   "metadata": {},
   "outputs": [
    {
     "name": "stdout",
     "output_type": "stream",
     "text": [
      "1\n"
     ]
    }
   ],
   "source": [
    "l = [\"test1\", \"test2\", \"test3\", \"test4\"]\n",
    "print(l.index(\"test2\"))"
   ]
  },
  {
   "cell_type": "code",
   "execution_count": 5,
   "metadata": {},
   "outputs": [
    {
     "data": {
      "text/plain": [
       "[]"
      ]
     },
     "execution_count": 5,
     "metadata": {},
     "output_type": "execute_result"
    }
   ],
   "source": [
    "arr.getRow(4)"
   ]
  }
 ],
 "metadata": {
  "kernelspec": {
   "display_name": "MASTER",
   "language": "python",
   "name": "python3"
  },
  "language_info": {
   "codemirror_mode": {
    "name": "ipython",
    "version": 3
   },
   "file_extension": ".py",
   "mimetype": "text/x-python",
   "name": "python",
   "nbconvert_exporter": "python",
   "pygments_lexer": "ipython3",
   "version": "3.11.5"
  }
 },
 "nbformat": 4,
 "nbformat_minor": 2
}
