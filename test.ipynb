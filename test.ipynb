{
 "cells": [
  {
   "cell_type": "code",
   "execution_count": 13,
   "metadata": {},
   "outputs": [
    {
     "name": "stdout",
     "output_type": "stream",
     "text": [
      "True\n",
      "1: 1 2.555 3 4 \n",
      "2: 5 6 7 8 \n",
      "3: 9 10 11 12 \n",
      "4: 13 14 15 16 \n",
      "5: 17 18 19 20 \n"
     ]
    }
   ],
   "source": [
    "from dynamic_array import DynamicArray\n",
    "\n",
    "# Create an instance of DynamicArray with 4 columns\n",
    "arr = DynamicArray(4)\n",
    "\n",
    "# Add rows, delete rows, and check for timestamp existence\n",
    "\n",
    "arr.updateRow(1, 1, 2.555)\n",
    "arr.updateRow(1, 0, 1.0)\n",
    "arr.updateRow(1, 2, 3.0)\n",
    "arr.updateRow(1, 3, 4.0)\n",
    "arr.updateRow(2, 0, 5.0)\n",
    "arr.updateRow(2, 1, 6.0)\n",
    "arr.updateRow(2, 2, 7.0)\n",
    "arr.updateRow(2, 3, 8.0)\n",
    "arr.updateRow(3, 0, 9.0)\n",
    "arr.updateRow(3, 1, 10.0)\n",
    "arr.updateRow(3, 2, 11.0)\n",
    "arr.updateRow(3, 3, 12.0)\n",
    "arr.updateRow(4, 0, 13.0)\n",
    "arr.updateRow(4, 1, 14.0)\n",
    "arr.updateRow(4, 2, 15.0)\n",
    "arr.updateRow(4, 3, 16.0)\n",
    "arr.updateRow(5, 0, 17.0)\n",
    "arr.updateRow(5, 1, 18.0)\n",
    "arr.updateRow(5, 2, 19.0)\n",
    "arr.updateRow(5, 3, 20.0)\n",
    "print(arr.timestampExists(1.0)) # Should print True\n",
    "arr.print() # Use the C++ print method to display the array"
   ]
  },
  {
   "cell_type": "code",
   "execution_count": 14,
   "metadata": {},
   "outputs": [
    {
     "name": "stdout",
     "output_type": "stream",
     "text": [
      "<class 'list'>\n"
     ]
    }
   ],
   "source": [
    "print(type(arr.getTimestamps()))"
   ]
  },
  {
   "cell_type": "code",
   "execution_count": 15,
   "metadata": {},
   "outputs": [
    {
     "name": "stdout",
     "output_type": "stream",
     "text": [
      "5\n",
      "1\n"
     ]
    }
   ],
   "source": [
    "print(arr.getLength())\n",
    "print(arr.minKey())"
   ]
  },
  {
   "cell_type": "code",
   "execution_count": 16,
   "metadata": {},
   "outputs": [
    {
     "name": "stdout",
     "output_type": "stream",
     "text": [
      "1: 1 444 3 4 \n",
      "2: 5 6 7 8 \n",
      "3: 9 10 11 12 \n",
      "4: 13 14 15 16 \n",
      "5: 17 18 19 20 \n"
     ]
    }
   ],
   "source": [
    "arr.updateRow(1, 1, 444)\n",
    "arr.print()\n"
   ]
  },
  {
   "cell_type": "code",
   "execution_count": 17,
   "metadata": {},
   "outputs": [
    {
     "name": "stdout",
     "output_type": "stream",
     "text": [
      "1\n"
     ]
    }
   ],
   "source": [
    "l = [\"test1\", \"test2\", \"test3\", \"test4\"]\n",
    "print(l.index(\"test2\"))"
   ]
  },
  {
   "cell_type": "code",
   "execution_count": 18,
   "metadata": {},
   "outputs": [
    {
     "data": {
      "text/plain": [
       "[13.0, 14.0, 15.0, 16.0]"
      ]
     },
     "execution_count": 18,
     "metadata": {},
     "output_type": "execute_result"
    }
   ],
   "source": [
    "arr.getRow(4)"
   ]
  },
  {
   "cell_type": "code",
   "execution_count": 21,
   "metadata": {},
   "outputs": [
    {
     "name": "stdout",
     "output_type": "stream",
     "text": [
      "(3, 4)\n",
      "[[ 9. 10. 11. 12.]\n",
      " [13. 14. 15. 16.]\n",
      " [17. 18. 19. 20.]]\n"
     ]
    }
   ],
   "source": [
    "import numpy as np\n",
    "b  = arr.getSlice(5, 3)\n",
    "ab = np.array(b)\n",
    "print(ab.shape)\n",
    "print(ab)"
   ]
  },
  {
   "cell_type": "code",
   "execution_count": null,
   "metadata": {},
   "outputs": [],
   "source": [
    "ab[0,1]"
   ]
  }
 ],
 "metadata": {
  "kernelspec": {
   "display_name": "MASTER",
   "language": "python",
   "name": "python3"
  },
  "language_info": {
   "codemirror_mode": {
    "name": "ipython",
    "version": 3
   },
   "file_extension": ".py",
   "mimetype": "text/x-python",
   "name": "python",
   "nbconvert_exporter": "python",
   "pygments_lexer": "ipython3",
   "version": "3.11.5"
  }
 },
 "nbformat": 4,
 "nbformat_minor": 2
}
